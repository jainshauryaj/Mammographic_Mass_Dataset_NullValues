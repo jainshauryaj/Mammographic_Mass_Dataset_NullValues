{
 "cells": [
  {
   "cell_type": "markdown",
   "id": "c700de66",
   "metadata": {},
   "source": [
    "# Mammography Mass ML Model"
   ]
  },
  {
   "cell_type": "markdown",
   "id": "26587979",
   "metadata": {},
   "source": [
    "In this notebook we have done analysis on Mammography Mass Dataset, implement ML pipelines for simple ML model comparison and investigate for investigation of the relationship between various features and the responses."
   ]
  },
  {
   "cell_type": "markdown",
   "id": "915b411f",
   "metadata": {},
   "source": [
    "## 1. Statistical Classification model to detect severity"
   ]
  },
  {
   "cell_type": "markdown",
   "id": "1f54cbed",
   "metadata": {},
   "source": [
    "Import the Library"
   ]
  },
  {
   "cell_type": "code",
   "execution_count": 1,
   "id": "6628aea4",
   "metadata": {},
   "outputs": [],
   "source": [
    "import pandas as pd\n",
    "import numpy as np\n",
    "import seaborn as sns\n",
    "from matplotlib import pyplot as plt\n",
    "from sklearn.preprocessing import StandardScaler\n",
    "from sklearn.model_selection import train_test_split\n",
    "from sklearn.tree import DecisionTreeClassifier\n",
    "from sklearn.metrics import accuracy_score"
   ]
  },
  {
   "cell_type": "markdown",
   "id": "e0670110",
   "metadata": {},
   "source": [
    "Load the dataset"
   ]
  },
  {
   "cell_type": "code",
   "execution_count": 2,
   "id": "9e60419e",
   "metadata": {},
   "outputs": [],
   "source": [
    "df_train = pd.read_excel('train.xlsx', index_col=0)\n",
    "df_test = pd.read_excel('test.xlsx', index_col=0)"
   ]
  },
  {
   "cell_type": "markdown",
   "id": "6b578966",
   "metadata": {},
   "source": [
    "# EDA"
   ]
  },
  {
   "cell_type": "markdown",
   "id": "443f230a",
   "metadata": {},
   "source": [
    "## 7. Comment on EDA of variables in data."
   ]
  },
  {
   "cell_type": "markdown",
   "id": "d2823c84",
   "metadata": {},
   "source": [
    "Let's look at the data"
   ]
  },
  {
   "cell_type": "code",
   "execution_count": 3,
   "id": "f3c87f5d",
   "metadata": {},
   "outputs": [
    {
     "data": {
      "text/html": [
       "<div>\n",
       "<style scoped>\n",
       "    .dataframe tbody tr th:only-of-type {\n",
       "        vertical-align: middle;\n",
       "    }\n",
       "\n",
       "    .dataframe tbody tr th {\n",
       "        vertical-align: top;\n",
       "    }\n",
       "\n",
       "    .dataframe thead th {\n",
       "        text-align: right;\n",
       "    }\n",
       "</style>\n",
       "<table border=\"1\" class=\"dataframe\">\n",
       "  <thead>\n",
       "    <tr style=\"text-align: right;\">\n",
       "      <th></th>\n",
       "      <th>BI_RADS</th>\n",
       "      <th>Age</th>\n",
       "      <th>Shape</th>\n",
       "      <th>Margin</th>\n",
       "      <th>Mass_Density</th>\n",
       "      <th>Severity</th>\n",
       "    </tr>\n",
       "    <tr>\n",
       "      <th>Index</th>\n",
       "      <th></th>\n",
       "      <th></th>\n",
       "      <th></th>\n",
       "      <th></th>\n",
       "      <th></th>\n",
       "      <th></th>\n",
       "    </tr>\n",
       "  </thead>\n",
       "  <tbody>\n",
       "    <tr>\n",
       "      <th>1</th>\n",
       "      <td>5.0</td>\n",
       "      <td>67.0</td>\n",
       "      <td>lobular</td>\n",
       "      <td>spiculated</td>\n",
       "      <td>low</td>\n",
       "      <td>1</td>\n",
       "    </tr>\n",
       "    <tr>\n",
       "      <th>2</th>\n",
       "      <td>4.0</td>\n",
       "      <td>43.0</td>\n",
       "      <td>round</td>\n",
       "      <td>circumscribed</td>\n",
       "      <td>NaN</td>\n",
       "      <td>1</td>\n",
       "    </tr>\n",
       "    <tr>\n",
       "      <th>3</th>\n",
       "      <td>5.0</td>\n",
       "      <td>58.0</td>\n",
       "      <td>irregular</td>\n",
       "      <td>spiculated</td>\n",
       "      <td>low</td>\n",
       "      <td>1</td>\n",
       "    </tr>\n",
       "    <tr>\n",
       "      <th>4</th>\n",
       "      <td>4.0</td>\n",
       "      <td>28.0</td>\n",
       "      <td>round</td>\n",
       "      <td>circumscribed</td>\n",
       "      <td>low</td>\n",
       "      <td>0</td>\n",
       "    </tr>\n",
       "    <tr>\n",
       "      <th>5</th>\n",
       "      <td>5.0</td>\n",
       "      <td>74.0</td>\n",
       "      <td>round</td>\n",
       "      <td>spiculated</td>\n",
       "      <td>NaN</td>\n",
       "      <td>1</td>\n",
       "    </tr>\n",
       "  </tbody>\n",
       "</table>\n",
       "</div>"
      ],
      "text/plain": [
       "       BI_RADS   Age      Shape         Margin Mass_Density  Severity\n",
       "Index                                                                \n",
       "1          5.0  67.0    lobular     spiculated          low         1\n",
       "2          4.0  43.0      round  circumscribed          NaN         1\n",
       "3          5.0  58.0  irregular     spiculated          low         1\n",
       "4          4.0  28.0      round  circumscribed          low         0\n",
       "5          5.0  74.0      round     spiculated          NaN         1"
      ]
     },
     "execution_count": 3,
     "metadata": {},
     "output_type": "execute_result"
    }
   ],
   "source": [
    "df_train.head()"
   ]
  },
  {
   "cell_type": "code",
   "execution_count": 4,
   "id": "185d71c8",
   "metadata": {},
   "outputs": [
    {
     "data": {
      "text/plain": [
       "(811, 6)"
      ]
     },
     "execution_count": 4,
     "metadata": {},
     "output_type": "execute_result"
    }
   ],
   "source": [
    "df_train.shape"
   ]
  },
  {
   "cell_type": "code",
   "execution_count": 5,
   "id": "6c93409e",
   "metadata": {},
   "outputs": [
    {
     "data": {
      "text/html": [
       "<div>\n",
       "<style scoped>\n",
       "    .dataframe tbody tr th:only-of-type {\n",
       "        vertical-align: middle;\n",
       "    }\n",
       "\n",
       "    .dataframe tbody tr th {\n",
       "        vertical-align: top;\n",
       "    }\n",
       "\n",
       "    .dataframe thead th {\n",
       "        text-align: right;\n",
       "    }\n",
       "</style>\n",
       "<table border=\"1\" class=\"dataframe\">\n",
       "  <thead>\n",
       "    <tr style=\"text-align: right;\">\n",
       "      <th></th>\n",
       "      <th>BI_RADS</th>\n",
       "      <th>Age</th>\n",
       "      <th>Shape</th>\n",
       "      <th>Margin</th>\n",
       "      <th>Mass_Density</th>\n",
       "      <th>Severity</th>\n",
       "    </tr>\n",
       "    <tr>\n",
       "      <th>Index</th>\n",
       "      <th></th>\n",
       "      <th></th>\n",
       "      <th></th>\n",
       "      <th></th>\n",
       "      <th></th>\n",
       "      <th></th>\n",
       "    </tr>\n",
       "  </thead>\n",
       "  <tbody>\n",
       "    <tr>\n",
       "      <th>1</th>\n",
       "      <td>5</td>\n",
       "      <td>65.0</td>\n",
       "      <td>lobular</td>\n",
       "      <td>ill-defined</td>\n",
       "      <td>low</td>\n",
       "      <td>1</td>\n",
       "    </tr>\n",
       "    <tr>\n",
       "      <th>2</th>\n",
       "      <td>5</td>\n",
       "      <td>74.0</td>\n",
       "      <td>lobular</td>\n",
       "      <td>microlobulated</td>\n",
       "      <td>low</td>\n",
       "      <td>1</td>\n",
       "    </tr>\n",
       "    <tr>\n",
       "      <th>3</th>\n",
       "      <td>4</td>\n",
       "      <td>NaN</td>\n",
       "      <td>oval</td>\n",
       "      <td>circumscribed</td>\n",
       "      <td>low</td>\n",
       "      <td>0</td>\n",
       "    </tr>\n",
       "    <tr>\n",
       "      <th>4</th>\n",
       "      <td>4</td>\n",
       "      <td>57.0</td>\n",
       "      <td>irregular</td>\n",
       "      <td>ill-defined</td>\n",
       "      <td>fat-containing</td>\n",
       "      <td>1</td>\n",
       "    </tr>\n",
       "    <tr>\n",
       "      <th>5</th>\n",
       "      <td>4</td>\n",
       "      <td>76.0</td>\n",
       "      <td>lobular</td>\n",
       "      <td>microlobulated</td>\n",
       "      <td>low</td>\n",
       "      <td>0</td>\n",
       "    </tr>\n",
       "  </tbody>\n",
       "</table>\n",
       "</div>"
      ],
      "text/plain": [
       "       BI_RADS   Age      Shape          Margin    Mass_Density  Severity\n",
       "Index                                                                    \n",
       "1            5  65.0    lobular     ill-defined             low         1\n",
       "2            5  74.0    lobular  microlobulated             low         1\n",
       "3            4   NaN       oval   circumscribed             low         0\n",
       "4            4  57.0  irregular     ill-defined  fat-containing         1\n",
       "5            4  76.0    lobular  microlobulated             low         0"
      ]
     },
     "execution_count": 5,
     "metadata": {},
     "output_type": "execute_result"
    }
   ],
   "source": [
    "df_test.head()"
   ]
  },
  {
   "cell_type": "code",
   "execution_count": 6,
   "id": "02586e49",
   "metadata": {},
   "outputs": [
    {
     "data": {
      "text/plain": [
       "(150, 6)"
      ]
     },
     "execution_count": 6,
     "metadata": {},
     "output_type": "execute_result"
    }
   ],
   "source": [
    "df_test.shape"
   ]
  },
  {
   "cell_type": "markdown",
   "id": "2a1e01ab",
   "metadata": {},
   "source": [
    "## 9. What techniques have been used for treating missing values to prepare features for model building?"
   ]
  },
  {
   "cell_type": "markdown",
   "id": "087edf33",
   "metadata": {},
   "source": [
    "Let check for null values in the dataset"
   ]
  },
  {
   "cell_type": "code",
   "execution_count": 7,
   "id": "1729ecd9",
   "metadata": {},
   "outputs": [
    {
     "data": {
      "text/plain": [
       "BI_RADS          2\n",
       "Age             88\n",
       "Shape           30\n",
       "Margin          47\n",
       "Mass_Density    76\n",
       "Severity         0\n",
       "dtype: int64"
      ]
     },
     "execution_count": 7,
     "metadata": {},
     "output_type": "execute_result"
    }
   ],
   "source": [
    "df_train.isnull().sum()"
   ]
  },
  {
   "cell_type": "code",
   "execution_count": 8,
   "id": "471de101",
   "metadata": {},
   "outputs": [
    {
     "data": {
      "text/plain": [
       "BI_RADS          0\n",
       "Age             12\n",
       "Shape            1\n",
       "Margin           1\n",
       "Mass_Density     0\n",
       "Severity         0\n",
       "dtype: int64"
      ]
     },
     "execution_count": 8,
     "metadata": {},
     "output_type": "execute_result"
    }
   ],
   "source": [
    "df_test.isnull().sum()"
   ]
  },
  {
   "cell_type": "markdown",
   "id": "0c706daf",
   "metadata": {},
   "source": [
    "We can see from the above values that training data holds alot of null values. Where we would have to check for distribution of the null values in the dataset."
   ]
  },
  {
   "cell_type": "code",
   "execution_count": 9,
   "id": "7aa206dc",
   "metadata": {},
   "outputs": [
    {
     "data": {
      "text/html": [
       "<div>\n",
       "<style scoped>\n",
       "    .dataframe tbody tr th:only-of-type {\n",
       "        vertical-align: middle;\n",
       "    }\n",
       "\n",
       "    .dataframe tbody tr th {\n",
       "        vertical-align: top;\n",
       "    }\n",
       "\n",
       "    .dataframe thead th {\n",
       "        text-align: right;\n",
       "    }\n",
       "</style>\n",
       "<table border=\"1\" class=\"dataframe\">\n",
       "  <thead>\n",
       "    <tr style=\"text-align: right;\">\n",
       "      <th></th>\n",
       "      <th>BI_RADS</th>\n",
       "      <th>Age</th>\n",
       "      <th>Shape</th>\n",
       "      <th>Margin</th>\n",
       "      <th>Mass_Density</th>\n",
       "      <th>Severity</th>\n",
       "    </tr>\n",
       "    <tr>\n",
       "      <th>Index</th>\n",
       "      <th></th>\n",
       "      <th></th>\n",
       "      <th></th>\n",
       "      <th></th>\n",
       "      <th></th>\n",
       "      <th></th>\n",
       "    </tr>\n",
       "  </thead>\n",
       "  <tbody>\n",
       "    <tr>\n",
       "      <th>2</th>\n",
       "      <td>4.0</td>\n",
       "      <td>43.0</td>\n",
       "      <td>round</td>\n",
       "      <td>circumscribed</td>\n",
       "      <td>NaN</td>\n",
       "      <td>1</td>\n",
       "    </tr>\n",
       "    <tr>\n",
       "      <th>5</th>\n",
       "      <td>5.0</td>\n",
       "      <td>74.0</td>\n",
       "      <td>round</td>\n",
       "      <td>spiculated</td>\n",
       "      <td>NaN</td>\n",
       "      <td>1</td>\n",
       "    </tr>\n",
       "    <tr>\n",
       "      <th>6</th>\n",
       "      <td>4.0</td>\n",
       "      <td>65.0</td>\n",
       "      <td>round</td>\n",
       "      <td>NaN</td>\n",
       "      <td>low</td>\n",
       "      <td>0</td>\n",
       "    </tr>\n",
       "    <tr>\n",
       "      <th>7</th>\n",
       "      <td>4.0</td>\n",
       "      <td>70.0</td>\n",
       "      <td>NaN</td>\n",
       "      <td>NaN</td>\n",
       "      <td>low</td>\n",
       "      <td>0</td>\n",
       "    </tr>\n",
       "    <tr>\n",
       "      <th>8</th>\n",
       "      <td>5.0</td>\n",
       "      <td>42.0</td>\n",
       "      <td>round</td>\n",
       "      <td>NaN</td>\n",
       "      <td>low</td>\n",
       "      <td>0</td>\n",
       "    </tr>\n",
       "    <tr>\n",
       "      <th>...</th>\n",
       "      <td>...</td>\n",
       "      <td>...</td>\n",
       "      <td>...</td>\n",
       "      <td>...</td>\n",
       "      <td>...</td>\n",
       "      <td>...</td>\n",
       "    </tr>\n",
       "    <tr>\n",
       "      <th>692</th>\n",
       "      <td>4.0</td>\n",
       "      <td>NaN</td>\n",
       "      <td>lobular</td>\n",
       "      <td>NaN</td>\n",
       "      <td>low</td>\n",
       "      <td>0</td>\n",
       "    </tr>\n",
       "    <tr>\n",
       "      <th>724</th>\n",
       "      <td>4.0</td>\n",
       "      <td>60.0</td>\n",
       "      <td>lobular</td>\n",
       "      <td>NaN</td>\n",
       "      <td>fat-containing</td>\n",
       "      <td>0</td>\n",
       "    </tr>\n",
       "    <tr>\n",
       "      <th>746</th>\n",
       "      <td>6.0</td>\n",
       "      <td>76.0</td>\n",
       "      <td>lobular</td>\n",
       "      <td>NaN</td>\n",
       "      <td>low</td>\n",
       "      <td>0</td>\n",
       "    </tr>\n",
       "    <tr>\n",
       "      <th>753</th>\n",
       "      <td>5.0</td>\n",
       "      <td>48.0</td>\n",
       "      <td>NaN</td>\n",
       "      <td>ill-defined</td>\n",
       "      <td>NaN</td>\n",
       "      <td>1</td>\n",
       "    </tr>\n",
       "    <tr>\n",
       "      <th>779</th>\n",
       "      <td>4.0</td>\n",
       "      <td>60.0</td>\n",
       "      <td>NaN</td>\n",
       "      <td>ill-defined</td>\n",
       "      <td>low</td>\n",
       "      <td>0</td>\n",
       "    </tr>\n",
       "  </tbody>\n",
       "</table>\n",
       "<p>123 rows × 6 columns</p>\n",
       "</div>"
      ],
      "text/plain": [
       "       BI_RADS   Age    Shape         Margin    Mass_Density  Severity\n",
       "Index                                                                 \n",
       "2          4.0  43.0    round  circumscribed             NaN         1\n",
       "5          5.0  74.0    round     spiculated             NaN         1\n",
       "6          4.0  65.0    round            NaN             low         0\n",
       "7          4.0  70.0      NaN            NaN             low         0\n",
       "8          5.0  42.0    round            NaN             low         0\n",
       "...        ...   ...      ...            ...             ...       ...\n",
       "692        4.0   NaN  lobular            NaN             low         0\n",
       "724        4.0  60.0  lobular            NaN  fat-containing         0\n",
       "746        6.0  76.0  lobular            NaN             low         0\n",
       "753        5.0  48.0      NaN    ill-defined             NaN         1\n",
       "779        4.0  60.0      NaN    ill-defined             low         0\n",
       "\n",
       "[123 rows x 6 columns]"
      ]
     },
     "execution_count": 9,
     "metadata": {},
     "output_type": "execute_result"
    }
   ],
   "source": [
    "df_train[df_train['Shape'].isnull()|df_train['Margin'].isnull()|df_train['Mass_Density'].isnull()]"
   ]
  },
  {
   "cell_type": "code",
   "execution_count": 10,
   "id": "7320d3b7",
   "metadata": {},
   "outputs": [],
   "source": [
    "df_train = df_train.dropna(subset=['Shape','Margin','BI_RADS','Mass_Density'])\n",
    "df_test = df_test.dropna(subset=['Shape','Margin'])"
   ]
  },
  {
   "cell_type": "markdown",
   "id": "f5f10bda",
   "metadata": {},
   "source": [
    "Looking at the distribution of null values in the dataset we can see that the values are randomly distributed but we also have a really small dataset of 811 rows, So removing the all 123 rows from dataset will no help us during the training of the dataset.\n",
    "\n",
    "I am dropping the categorical null values and keeping the numerical null values. Also, the 1 null value of BI_RADS present in the training data."
   ]
  },
  {
   "cell_type": "code",
   "execution_count": 11,
   "id": "870a004f",
   "metadata": {},
   "outputs": [
    {
     "data": {
      "text/plain": [
       "BI_RADS          0\n",
       "Age             77\n",
       "Shape            0\n",
       "Margin           0\n",
       "Mass_Density     0\n",
       "Severity         0\n",
       "dtype: int64"
      ]
     },
     "execution_count": 11,
     "metadata": {},
     "output_type": "execute_result"
    }
   ],
   "source": [
    "df_train.isnull().sum()"
   ]
  },
  {
   "cell_type": "code",
   "execution_count": 12,
   "id": "d0544fca",
   "metadata": {},
   "outputs": [],
   "source": [
    "df_train['Age'] = df_train['Age'].fillna(value = df_train['Age'].mean())"
   ]
  },
  {
   "cell_type": "code",
   "execution_count": 14,
   "id": "062bdbcb",
   "metadata": {},
   "outputs": [
    {
     "data": {
      "text/plain": [
       "BI_RADS          0\n",
       "Age             11\n",
       "Shape            0\n",
       "Margin           0\n",
       "Mass_Density     0\n",
       "Severity         0\n",
       "dtype: int64"
      ]
     },
     "execution_count": 14,
     "metadata": {},
     "output_type": "execute_result"
    }
   ],
   "source": [
    "df_test.isnull().sum()"
   ]
  },
  {
   "cell_type": "code",
   "execution_count": 15,
   "id": "ad0d15d7",
   "metadata": {},
   "outputs": [],
   "source": [
    "df_test['Age'] = df_test['Age'].fillna(value = df_test['Age'].mean())"
   ]
  },
  {
   "cell_type": "markdown",
   "id": "833a9f00",
   "metadata": {},
   "source": [
    "Looking at the Age data present in the dataset we can visualize the count of patient's age to look for the distribution of data in the dataset"
   ]
  },
  {
   "cell_type": "markdown",
   "id": "d907b592",
   "metadata": {},
   "source": [
    "## 8. How are you detecting and treating outliers in the dataset for better convergence?"
   ]
  },
  {
   "cell_type": "code",
   "execution_count": 16,
   "id": "86b6729b",
   "metadata": {},
   "outputs": [
    {
     "data": {
      "image/png": "[encoded data removed]",
      "text/plain": [
       "<Figure size 720x576 with 1 Axes>"
      ]
     },
     "metadata": {
      "needs_background": "light"
     },
     "output_type": "display_data"
    }
   ],
   "source": [
    "fig, axes = plt.subplots(1, 1, figsize=(10, 8))\n",
    "\n",
    "# Plot frequency plot/ histogram\n",
    "\n",
    "sns.histplot(x=\"Age\", kde=True, data=df_train, ax=axes, bins=40);\n",
    "axes.set(xlabel=\"Age\");\n",
    "axes.xaxis.label.set_size(18)\n",
    "axes.yaxis.label.set_size(18)\n",
    "axes.tick_params('y', labelsize = 14);\n",
    "axes.tick_params('x', labelsize = 14);"
   ]
  },
  {
   "cell_type": "code",
   "execution_count": 17,
   "id": "6a709289",
   "metadata": {},
   "outputs": [
    {
     "data": {
      "text/plain": [
       "<AxesSubplot:xlabel='Age'>"
      ]
     },
     "execution_count": 17,
     "metadata": {},
     "output_type": "execute_result"
    },
    {
     "data": {
      "image/png": "[encoded data removed]",
      "text/plain": [
       "<Figure size 720x576 with 1 Axes>"
      ]
     },
     "metadata": {
      "needs_background": "light"
     },
     "output_type": "display_data"
    }
   ],
   "source": [
    "fig, axes = plt.subplots(1, 1, figsize=(10, 8))\n",
    "sns.boxplot(x='Age', data=df_train)"
   ]
  },
  {
   "cell_type": "markdown",
   "id": "0289452a",
   "metadata": {},
   "source": [
    "From the above we can look in the graph that patient's age  above 100 is likely to be a outlier in the dataset. So Dropping the values for age above 100 in the dataset."
   ]
  },
  {
   "cell_type": "code",
   "execution_count": 18,
   "id": "d64b9eae",
   "metadata": {},
   "outputs": [],
   "source": [
    "df_train = df_train[df_train['Age'] < 100]"
   ]
  },
  {
   "cell_type": "code",
   "execution_count": 19,
   "id": "f2eb3634",
   "metadata": {},
   "outputs": [
    {
     "data": {
      "text/plain": [
       "4.0     361\n",
       "5.0     278\n",
       "3.0      22\n",
       "6.0       7\n",
       "2.0       6\n",
       "0.0       3\n",
       "55.0      1\n",
       "Name: BI_RADS, dtype: int64"
      ]
     },
     "execution_count": 19,
     "metadata": {},
     "output_type": "execute_result"
    }
   ],
   "source": [
    "df_train['BI_RADS'].value_counts()"
   ]
  },
  {
   "cell_type": "markdown",
   "id": "a95b8892",
   "metadata": {},
   "source": [
    "Assuming the wrong entry for 55 in BI_RADS, I am assuming it to be 5 for this dataset."
   ]
  },
  {
   "cell_type": "code",
   "execution_count": 20,
   "id": "2792049e",
   "metadata": {},
   "outputs": [],
   "source": [
    "df_train['BI_RADS'][df_train[df_train['BI_RADS'] == 55].index] = 5 "
   ]
  },
  {
   "cell_type": "code",
   "execution_count": 21,
   "id": "718bcb9d",
   "metadata": {},
   "outputs": [
    {
     "data": {
      "text/plain": [
       "4.0    361\n",
       "5.0    279\n",
       "3.0     22\n",
       "6.0      7\n",
       "2.0      6\n",
       "0.0      3\n",
       "Name: BI_RADS, dtype: int64"
      ]
     },
     "execution_count": 21,
     "metadata": {},
     "output_type": "execute_result"
    }
   ],
   "source": [
    "df_train['BI_RADS'].value_counts()"
   ]
  },
  {
   "cell_type": "code",
   "execution_count": 22,
   "id": "51a1f408",
   "metadata": {},
   "outputs": [
    {
     "data": {
      "text/html": [
       "<div>\n",
       "<style scoped>\n",
       "    .dataframe tbody tr th:only-of-type {\n",
       "        vertical-align: middle;\n",
       "    }\n",
       "\n",
       "    .dataframe tbody tr th {\n",
       "        vertical-align: top;\n",
       "    }\n",
       "\n",
       "    .dataframe thead th {\n",
       "        text-align: right;\n",
       "    }\n",
       "</style>\n",
       "<table border=\"1\" class=\"dataframe\">\n",
       "  <thead>\n",
       "    <tr style=\"text-align: right;\">\n",
       "      <th></th>\n",
       "      <th>BI_RADS</th>\n",
       "      <th>Age</th>\n",
       "      <th>Severity</th>\n",
       "    </tr>\n",
       "  </thead>\n",
       "  <tbody>\n",
       "    <tr>\n",
       "      <th>count</th>\n",
       "      <td>678.000000</td>\n",
       "      <td>678.000000</td>\n",
       "      <td>678.000000</td>\n",
       "    </tr>\n",
       "    <tr>\n",
       "      <th>mean</th>\n",
       "      <td>4.364307</td>\n",
       "      <td>55.369853</td>\n",
       "      <td>0.486726</td>\n",
       "    </tr>\n",
       "    <tr>\n",
       "      <th>std</th>\n",
       "      <td>0.677793</td>\n",
       "      <td>14.143080</td>\n",
       "      <td>0.500193</td>\n",
       "    </tr>\n",
       "    <tr>\n",
       "      <th>min</th>\n",
       "      <td>0.000000</td>\n",
       "      <td>5.000000</td>\n",
       "      <td>0.000000</td>\n",
       "    </tr>\n",
       "    <tr>\n",
       "      <th>25%</th>\n",
       "      <td>4.000000</td>\n",
       "      <td>46.000000</td>\n",
       "      <td>0.000000</td>\n",
       "    </tr>\n",
       "    <tr>\n",
       "      <th>50%</th>\n",
       "      <td>4.000000</td>\n",
       "      <td>56.347541</td>\n",
       "      <td>0.000000</td>\n",
       "    </tr>\n",
       "    <tr>\n",
       "      <th>75%</th>\n",
       "      <td>5.000000</td>\n",
       "      <td>65.000000</td>\n",
       "      <td>1.000000</td>\n",
       "    </tr>\n",
       "    <tr>\n",
       "      <th>max</th>\n",
       "      <td>6.000000</td>\n",
       "      <td>96.000000</td>\n",
       "      <td>1.000000</td>\n",
       "    </tr>\n",
       "  </tbody>\n",
       "</table>\n",
       "</div>"
      ],
      "text/plain": [
       "          BI_RADS         Age    Severity\n",
       "count  678.000000  678.000000  678.000000\n",
       "mean     4.364307   55.369853    0.486726\n",
       "std      0.677793   14.143080    0.500193\n",
       "min      0.000000    5.000000    0.000000\n",
       "25%      4.000000   46.000000    0.000000\n",
       "50%      4.000000   56.347541    0.000000\n",
       "75%      5.000000   65.000000    1.000000\n",
       "max      6.000000   96.000000    1.000000"
      ]
     },
     "execution_count": 22,
     "metadata": {},
     "output_type": "execute_result"
    }
   ],
   "source": [
    "df_train.describe()"
   ]
  },
  {
   "cell_type": "code",
   "execution_count": 23,
   "id": "48da1ee9",
   "metadata": {},
   "outputs": [],
   "source": [
    "categorical_col = ['Shape', 'Margin', 'Mass_Density']\n",
    "numerical_col = ['BI_RADS','Severity']"
   ]
  },
  {
   "cell_type": "markdown",
   "id": "d0075496",
   "metadata": {},
   "source": [
    "Seperating the Categorical and Numerical Columns in Dataset"
   ]
  },
  {
   "cell_type": "markdown",
   "id": "87141d40",
   "metadata": {},
   "source": [
    "## 6. Determine whether the data is normally distributed visually and statistically."
   ]
  },
  {
   "cell_type": "code",
   "execution_count": 24,
   "id": "aafbc102",
   "metadata": {},
   "outputs": [
    {
     "data": {
      "image/png": "[encoded data removed]",
      "text/plain": [
       "<Figure size 1440x1440 with 3 Axes>"
      ]
     },
     "metadata": {
      "needs_background": "light"
     },
     "output_type": "display_data"
    }
   ],
   "source": [
    "fig, ax = plt.subplots(3, 1, figsize=(20, 20));\n",
    "for variable, subplot in zip(categorical_col, ax.flatten()):\n",
    "    subplot.xaxis.label.set_size(20)\n",
    "    subplot.yaxis.label.set_size(20)\n",
    "    subplot.tick_params('y', labelsize = 20);\n",
    "    subplot.tick_params('x', labelsize = 20);\n",
    "    cp = sns.countplot(x=df_train[variable], ax=subplot, palette='deep', order =\n",
    "    df_train[variable].value_counts().index);\n",
    "plt.tight_layout()"
   ]
  },
  {
   "cell_type": "markdown",
   "id": "dda2e887",
   "metadata": {},
   "source": [
    "From Above, we can see that all the categorical columns graph present above have good variations. Assuming all the values to be same as present."
   ]
  },
  {
   "cell_type": "code",
   "execution_count": 25,
   "id": "a5e451b7",
   "metadata": {},
   "outputs": [
    {
     "data": {
      "image/png": "[encoded data removed]",
      "text/plain": [
       "<Figure size 1440x1440 with 2 Axes>"
      ]
     },
     "metadata": {
      "needs_background": "light"
     },
     "output_type": "display_data"
    }
   ],
   "source": [
    "fig, ax = plt.subplots(2, 1, figsize=(20, 20));\n",
    "for variable, subplot in zip(numerical_col, ax.flatten()):\n",
    "    subplot.xaxis.label.set_size(20)\n",
    "    subplot.yaxis.label.set_size(20)\n",
    "    subplot.tick_params('y', labelsize = 20);\n",
    "    subplot.tick_params('x', labelsize = 20);\n",
    "    cp = sns.countplot(x=df_train[variable], ax=subplot, palette='deep', order =\n",
    "    df_train[variable].value_counts().index);\n",
    "plt.tight_layout()"
   ]
  },
  {
   "cell_type": "markdown",
   "id": "a4bbc617",
   "metadata": {},
   "source": [
    "From Above, we can see that all the numerical columns graph present above have good variations. Assuming all the values to be same as present.\n",
    "\n",
    "Also, The severity classes is well distributed and balanced in the dataset. So there is no need for boosting."
   ]
  },
  {
   "cell_type": "markdown",
   "id": "79478b94",
   "metadata": {},
   "source": [
    "## 10. What is the distribution of target with respect to categorical columns?"
   ]
  },
  {
   "cell_type": "code",
   "execution_count": 26,
   "id": "51100df7",
   "metadata": {},
   "outputs": [
    {
     "data": {
      "image/png": "[encoded data removed]",
      "text/plain": [
       "<Figure size 720x720 with 1 Axes>"
      ]
     },
     "metadata": {
      "needs_background": "light"
     },
     "output_type": "display_data"
    }
   ],
   "source": [
    "fig = plt.figure(figsize=(10, 10))\n",
    "sns.barplot(data=df_train, y = 'Severity', x='Mass_Density')\n",
    "subplot.xaxis.label.set_size(20)\n",
    "subplot.yaxis.label.set_size(20)\n",
    "subplot.tick_params('y', labelsize = 20);\n",
    "subplot.tick_params('x', labelsize = 20);"
   ]
  },
  {
   "cell_type": "code",
   "execution_count": 27,
   "id": "5d7a183b",
   "metadata": {},
   "outputs": [
    {
     "data": {
      "image/png": "[encoded data removed]",
      "text/plain": [
       "<Figure size 720x720 with 1 Axes>"
      ]
     },
     "metadata": {
      "needs_background": "light"
     },
     "output_type": "display_data"
    }
   ],
   "source": [
    "fig = plt.figure(figsize=(10, 10))\n",
    "sns.barplot(data=df_train, y = 'Severity', x='Margin')\n",
    "subplot.xaxis.label.set_size(20)\n",
    "subplot.yaxis.label.set_size(20)\n",
    "subplot.tick_params('y', labelsize = 20);\n",
    "subplot.tick_params('x', labelsize = 20);"
   ]
  },
  {
   "cell_type": "code",
   "execution_count": 28,
   "id": "7bd1657f",
   "metadata": {},
   "outputs": [
    {
     "data": {
      "image/png": "[encoded data removed]",
      "text/plain": [
       "<Figure size 720x720 with 1 Axes>"
      ]
     },
     "metadata": {
      "needs_background": "light"
     },
     "output_type": "display_data"
    }
   ],
   "source": [
    "fig = plt.figure(figsize=(10, 10))\n",
    "sns.barplot(data=df_train, y = 'Severity', x='Shape')\n",
    "subplot.xaxis.label.set_size(20)\n",
    "subplot.yaxis.label.set_size(20)\n",
    "subplot.tick_params('y', labelsize = 20);\n",
    "subplot.tick_params('x', labelsize = 20);"
   ]
  },
  {
   "cell_type": "markdown",
   "id": "31b7ae6e",
   "metadata": {},
   "source": [
    "All Categorical columns seems to be well balanced with the target columns. Which will not require any changes in the existing data for these columns."
   ]
  },
  {
   "cell_type": "code",
   "execution_count": 29,
   "id": "769c5674",
   "metadata": {
    "scrolled": true
   },
   "outputs": [
    {
     "data": {
      "text/plain": [
       "<AxesSubplot:>"
      ]
     },
     "execution_count": 29,
     "metadata": {},
     "output_type": "execute_result"
    },
    {
     "data": {
      "image/png": "[encoded data removed]",
      "text/plain": [
       "<Figure size 720x720 with 2 Axes>"
      ]
     },
     "metadata": {
      "needs_background": "light"
     },
     "output_type": "display_data"
    }
   ],
   "source": [
    "fig = plt.figure(figsize=(10,10))\n",
    "sns.heatmap(df_train.corr(), annot=True)"
   ]
  },
  {
   "cell_type": "markdown",
   "id": "58696f3f",
   "metadata": {},
   "source": [
    "# Feature Engineering"
   ]
  },
  {
   "cell_type": "markdown",
   "id": "0168c832",
   "metadata": {},
   "source": [
    "## 3. What features would you want to create for your prediction model based on data provided?"
   ]
  },
  {
   "cell_type": "code",
   "execution_count": 30,
   "id": "8f6a3c05",
   "metadata": {},
   "outputs": [],
   "source": [
    "df_train = pd.get_dummies(df_train, columns = categorical_col, drop_first=True)"
   ]
  },
  {
   "cell_type": "code",
   "execution_count": 31,
   "id": "c17d2672",
   "metadata": {},
   "outputs": [],
   "source": [
    "df_test = pd.get_dummies(df_test, columns = categorical_col, drop_first=True)"
   ]
  },
  {
   "cell_type": "code",
   "execution_count": 32,
   "id": "4ee60e7b",
   "metadata": {},
   "outputs": [
    {
     "data": {
      "text/html": [
       "<div>\n",
       "<style scoped>\n",
       "    .dataframe tbody tr th:only-of-type {\n",
       "        vertical-align: middle;\n",
       "    }\n",
       "\n",
       "    .dataframe tbody tr th {\n",
       "        vertical-align: top;\n",
       "    }\n",
       "\n",
       "    .dataframe thead th {\n",
       "        text-align: right;\n",
       "    }\n",
       "</style>\n",
       "<table border=\"1\" class=\"dataframe\">\n",
       "  <thead>\n",
       "    <tr style=\"text-align: right;\">\n",
       "      <th></th>\n",
       "      <th>BI_RADS</th>\n",
       "      <th>Age</th>\n",
       "      <th>Severity</th>\n",
       "      <th>Shape_lobular</th>\n",
       "      <th>Shape_oval</th>\n",
       "      <th>Shape_round</th>\n",
       "      <th>Margin_ill-defined</th>\n",
       "      <th>Margin_microlobulated</th>\n",
       "      <th>Margin_obscured</th>\n",
       "      <th>Margin_spiculated</th>\n",
       "      <th>Mass_Density_high</th>\n",
       "      <th>Mass_Density_iso</th>\n",
       "      <th>Mass_Density_low</th>\n",
       "    </tr>\n",
       "    <tr>\n",
       "      <th>Index</th>\n",
       "      <th></th>\n",
       "      <th></th>\n",
       "      <th></th>\n",
       "      <th></th>\n",
       "      <th></th>\n",
       "      <th></th>\n",
       "      <th></th>\n",
       "      <th></th>\n",
       "      <th></th>\n",
       "      <th></th>\n",
       "      <th></th>\n",
       "      <th></th>\n",
       "      <th></th>\n",
       "    </tr>\n",
       "  </thead>\n",
       "  <tbody>\n",
       "    <tr>\n",
       "      <th>1</th>\n",
       "      <td>5.0</td>\n",
       "      <td>67.0</td>\n",
       "      <td>1</td>\n",
       "      <td>1</td>\n",
       "      <td>0</td>\n",
       "      <td>0</td>\n",
       "      <td>0</td>\n",
       "      <td>0</td>\n",
       "      <td>0</td>\n",
       "      <td>1</td>\n",
       "      <td>0</td>\n",
       "      <td>0</td>\n",
       "      <td>1</td>\n",
       "    </tr>\n",
       "    <tr>\n",
       "      <th>3</th>\n",
       "      <td>5.0</td>\n",
       "      <td>58.0</td>\n",
       "      <td>1</td>\n",
       "      <td>0</td>\n",
       "      <td>0</td>\n",
       "      <td>0</td>\n",
       "      <td>0</td>\n",
       "      <td>0</td>\n",
       "      <td>0</td>\n",
       "      <td>1</td>\n",
       "      <td>0</td>\n",
       "      <td>0</td>\n",
       "      <td>1</td>\n",
       "    </tr>\n",
       "    <tr>\n",
       "      <th>4</th>\n",
       "      <td>4.0</td>\n",
       "      <td>28.0</td>\n",
       "      <td>0</td>\n",
       "      <td>0</td>\n",
       "      <td>0</td>\n",
       "      <td>1</td>\n",
       "      <td>0</td>\n",
       "      <td>0</td>\n",
       "      <td>0</td>\n",
       "      <td>0</td>\n",
       "      <td>0</td>\n",
       "      <td>0</td>\n",
       "      <td>1</td>\n",
       "    </tr>\n",
       "    <tr>\n",
       "      <th>9</th>\n",
       "      <td>5.0</td>\n",
       "      <td>57.0</td>\n",
       "      <td>1</td>\n",
       "      <td>0</td>\n",
       "      <td>0</td>\n",
       "      <td>1</td>\n",
       "      <td>0</td>\n",
       "      <td>0</td>\n",
       "      <td>0</td>\n",
       "      <td>1</td>\n",
       "      <td>0</td>\n",
       "      <td>0</td>\n",
       "      <td>1</td>\n",
       "    </tr>\n",
       "    <tr>\n",
       "      <th>11</th>\n",
       "      <td>5.0</td>\n",
       "      <td>76.0</td>\n",
       "      <td>1</td>\n",
       "      <td>0</td>\n",
       "      <td>0</td>\n",
       "      <td>1</td>\n",
       "      <td>1</td>\n",
       "      <td>0</td>\n",
       "      <td>0</td>\n",
       "      <td>0</td>\n",
       "      <td>0</td>\n",
       "      <td>0</td>\n",
       "      <td>1</td>\n",
       "    </tr>\n",
       "  </tbody>\n",
       "</table>\n",
       "</div>"
      ],
      "text/plain": [
       "       BI_RADS   Age  Severity  Shape_lobular  Shape_oval  Shape_round  \\\n",
       "Index                                                                    \n",
       "1          5.0  67.0         1              1           0            0   \n",
       "3          5.0  58.0         1              0           0            0   \n",
       "4          4.0  28.0         0              0           0            1   \n",
       "9          5.0  57.0         1              0           0            1   \n",
       "11         5.0  76.0         1              0           0            1   \n",
       "\n",
       "       Margin_ill-defined  Margin_microlobulated  Margin_obscured  \\\n",
       "Index                                                               \n",
       "1                       0                      0                0   \n",
       "3                       0                      0                0   \n",
       "4                       0                      0                0   \n",
       "9                       0                      0                0   \n",
       "11                      1                      0                0   \n",
       "\n",
       "       Margin_spiculated  Mass_Density_high  Mass_Density_iso  \\\n",
       "Index                                                           \n",
       "1                      1                  0                 0   \n",
       "3                      1                  0                 0   \n",
       "4                      0                  0                 0   \n",
       "9                      1                  0                 0   \n",
       "11                     0                  0                 0   \n",
       "\n",
       "       Mass_Density_low  \n",
       "Index                    \n",
       "1                     1  \n",
       "3                     1  \n",
       "4                     1  \n",
       "9                     1  \n",
       "11                    1  "
      ]
     },
     "execution_count": 32,
     "metadata": {},
     "output_type": "execute_result"
    }
   ],
   "source": [
    "df_train.head()"
   ]
  },
  {
   "cell_type": "code",
   "execution_count": 33,
   "id": "73bf4507",
   "metadata": {},
   "outputs": [
    {
     "data": {
      "text/html": [
       "<div>\n",
       "<style scoped>\n",
       "    .dataframe tbody tr th:only-of-type {\n",
       "        vertical-align: middle;\n",
       "    }\n",
       "\n",
       "    .dataframe tbody tr th {\n",
       "        vertical-align: top;\n",
       "    }\n",
       "\n",
       "    .dataframe thead th {\n",
       "        text-align: right;\n",
       "    }\n",
       "</style>\n",
       "<table border=\"1\" class=\"dataframe\">\n",
       "  <thead>\n",
       "    <tr style=\"text-align: right;\">\n",
       "      <th></th>\n",
       "      <th>BI_RADS</th>\n",
       "      <th>Age</th>\n",
       "      <th>Severity</th>\n",
       "      <th>Shape_lobular</th>\n",
       "      <th>Shape_oval</th>\n",
       "      <th>Shape_round</th>\n",
       "      <th>Margin_ill-defined</th>\n",
       "      <th>Margin_microlobulated</th>\n",
       "      <th>Margin_obscured</th>\n",
       "      <th>Margin_spiculated</th>\n",
       "      <th>Mass_Density_high</th>\n",
       "      <th>Mass_Density_iso</th>\n",
       "      <th>Mass_Density_low</th>\n",
       "    </tr>\n",
       "    <tr>\n",
       "      <th>Index</th>\n",
       "      <th></th>\n",
       "      <th></th>\n",
       "      <th></th>\n",
       "      <th></th>\n",
       "      <th></th>\n",
       "      <th></th>\n",
       "      <th></th>\n",
       "      <th></th>\n",
       "      <th></th>\n",
       "      <th></th>\n",
       "      <th></th>\n",
       "      <th></th>\n",
       "      <th></th>\n",
       "    </tr>\n",
       "  </thead>\n",
       "  <tbody>\n",
       "    <tr>\n",
       "      <th>1</th>\n",
       "      <td>5</td>\n",
       "      <td>65.000000</td>\n",
       "      <td>1</td>\n",
       "      <td>1</td>\n",
       "      <td>0</td>\n",
       "      <td>0</td>\n",
       "      <td>1</td>\n",
       "      <td>0</td>\n",
       "      <td>0</td>\n",
       "      <td>0</td>\n",
       "      <td>0</td>\n",
       "      <td>0</td>\n",
       "      <td>1</td>\n",
       "    </tr>\n",
       "    <tr>\n",
       "      <th>2</th>\n",
       "      <td>5</td>\n",
       "      <td>74.000000</td>\n",
       "      <td>1</td>\n",
       "      <td>1</td>\n",
       "      <td>0</td>\n",
       "      <td>0</td>\n",
       "      <td>0</td>\n",
       "      <td>1</td>\n",
       "      <td>0</td>\n",
       "      <td>0</td>\n",
       "      <td>0</td>\n",
       "      <td>0</td>\n",
       "      <td>1</td>\n",
       "    </tr>\n",
       "    <tr>\n",
       "      <th>3</th>\n",
       "      <td>4</td>\n",
       "      <td>55.832117</td>\n",
       "      <td>0</td>\n",
       "      <td>0</td>\n",
       "      <td>1</td>\n",
       "      <td>0</td>\n",
       "      <td>0</td>\n",
       "      <td>0</td>\n",
       "      <td>0</td>\n",
       "      <td>0</td>\n",
       "      <td>0</td>\n",
       "      <td>0</td>\n",
       "      <td>1</td>\n",
       "    </tr>\n",
       "    <tr>\n",
       "      <th>4</th>\n",
       "      <td>4</td>\n",
       "      <td>57.000000</td>\n",
       "      <td>1</td>\n",
       "      <td>0</td>\n",
       "      <td>0</td>\n",
       "      <td>0</td>\n",
       "      <td>1</td>\n",
       "      <td>0</td>\n",
       "      <td>0</td>\n",
       "      <td>0</td>\n",
       "      <td>0</td>\n",
       "      <td>0</td>\n",
       "      <td>0</td>\n",
       "    </tr>\n",
       "    <tr>\n",
       "      <th>5</th>\n",
       "      <td>4</td>\n",
       "      <td>76.000000</td>\n",
       "      <td>0</td>\n",
       "      <td>1</td>\n",
       "      <td>0</td>\n",
       "      <td>0</td>\n",
       "      <td>0</td>\n",
       "      <td>1</td>\n",
       "      <td>0</td>\n",
       "      <td>0</td>\n",
       "      <td>0</td>\n",
       "      <td>0</td>\n",
       "      <td>1</td>\n",
       "    </tr>\n",
       "  </tbody>\n",
       "</table>\n",
       "</div>"
      ],
      "text/plain": [
       "       BI_RADS        Age  Severity  Shape_lobular  Shape_oval  Shape_round  \\\n",
       "Index                                                                         \n",
       "1            5  65.000000         1              1           0            0   \n",
       "2            5  74.000000         1              1           0            0   \n",
       "3            4  55.832117         0              0           1            0   \n",
       "4            4  57.000000         1              0           0            0   \n",
       "5            4  76.000000         0              1           0            0   \n",
       "\n",
       "       Margin_ill-defined  Margin_microlobulated  Margin_obscured  \\\n",
       "Index                                                               \n",
       "1                       1                      0                0   \n",
       "2                       0                      1                0   \n",
       "3                       0                      0                0   \n",
       "4                       1                      0                0   \n",
       "5                       0                      1                0   \n",
       "\n",
       "       Margin_spiculated  Mass_Density_high  Mass_Density_iso  \\\n",
       "Index                                                           \n",
       "1                      0                  0                 0   \n",
       "2                      0                  0                 0   \n",
       "3                      0                  0                 0   \n",
       "4                      0                  0                 0   \n",
       "5                      0                  0                 0   \n",
       "\n",
       "       Mass_Density_low  \n",
       "Index                    \n",
       "1                     1  \n",
       "2                     1  \n",
       "3                     1  \n",
       "4                     0  \n",
       "5                     1  "
      ]
     },
     "execution_count": 33,
     "metadata": {},
     "output_type": "execute_result"
    }
   ],
   "source": [
    "df_test.head()"
   ]
  },
  {
   "cell_type": "markdown",
   "id": "a5d78810",
   "metadata": {},
   "source": [
    "For Feature Engineering I have turned the categorical values in to get_dummy columns which will help the model to classify classes in a better accuracy."
   ]
  },
  {
   "cell_type": "markdown",
   "id": "82a06aea",
   "metadata": {},
   "source": [
    "# Model Building"
   ]
  },
  {
   "cell_type": "code",
   "execution_count": 34,
   "id": "b9d3cf96",
   "metadata": {},
   "outputs": [],
   "source": [
    "X_train = df_train.drop(columns=['Severity'],axis=1)\n",
    "y_train = df_train['Severity']\n",
    "X_test = df_test.drop(columns=['Severity'],axis=1)\n",
    "y_test = df_test['Severity']"
   ]
  },
  {
   "cell_type": "code",
   "execution_count": 35,
   "id": "e4efeb6c",
   "metadata": {},
   "outputs": [],
   "source": [
    "y_train = np.array(y_train.values.tolist())\n",
    "y_test = np.array(y_test.values.tolist())"
   ]
  },
  {
   "cell_type": "code",
   "execution_count": 36,
   "id": "b83bec0e",
   "metadata": {},
   "outputs": [],
   "source": [
    "scaler = StandardScaler()\n",
    "scaled_df = scaler.fit_transform(X_train)"
   ]
  },
  {
   "cell_type": "code",
   "execution_count": 37,
   "id": "3fd807b0",
   "metadata": {},
   "outputs": [
    {
     "data": {
      "text/plain": [
       "DecisionTreeClassifier(random_state=42)"
      ]
     },
     "execution_count": 37,
     "metadata": {},
     "output_type": "execute_result"
    }
   ],
   "source": [
    "clf_dtc = DecisionTreeClassifier(random_state= 42)\n",
    "clf_dtc.fit(scaled_df, y_train)"
   ]
  },
  {
   "cell_type": "code",
   "execution_count": 38,
   "id": "8d0ee660",
   "metadata": {},
   "outputs": [
    {
     "data": {
      "text/plain": [
       "0.4797297297297297"
      ]
     },
     "execution_count": 38,
     "metadata": {},
     "output_type": "execute_result"
    }
   ],
   "source": [
    "y_pred = clf_dtc.predict(X_test)\n",
    "accuracy_score(y_pred, y_test)"
   ]
  },
  {
   "cell_type": "code",
   "execution_count": 39,
   "id": "73442876",
   "metadata": {},
   "outputs": [
    {
     "data": {
      "text/plain": [
       "SVC(kernel='linear')"
      ]
     },
     "execution_count": 39,
     "metadata": {},
     "output_type": "execute_result"
    }
   ],
   "source": [
    "\n",
    "clf_svc = SVC(C = 1.0, kernel = 'linear')\n",
    "clf_svc.fit(scaled_df, y_train)"
   ]
  },
  {
   "cell_type": "code",
   "execution_count": 40,
   "id": "a91aafb2",
   "metadata": {},
   "outputs": [
    {
     "data": {
      "text/plain": [
       "0.4797297297297297"
      ]
     },
     "execution_count": 40,
     "metadata": {},
     "output_type": "execute_result"
    }
   ],
   "source": [
    "y_pred = clf_svc.predict(X_test)\n",
    "accuracy_score(y_pred, y_test)"
   ]
  },
  {
   "cell_type": "code",
   "execution_count": 41,
   "id": "afad5b2d",
   "metadata": {},
   "outputs": [
    {
     "data": {
      "text/plain": [
       "LogisticRegression()"
      ]
     },
     "execution_count": 41,
     "metadata": {},
     "output_type": "execute_result"
    }
   ],
   "source": [
    "\n",
    "\n",
    "clf_lr = LogisticRegression()\n",
    "clf_lr.fit(scaled_df, y_train)"
   ]
  },
  {
   "cell_type": "code",
   "execution_count": 42,
   "id": "9025bfbe",
   "metadata": {},
   "outputs": [
    {
     "data": {
      "text/plain": [
       "0.4797297297297297"
      ]
     },
     "execution_count": 42,
     "metadata": {},
     "output_type": "execute_result"
    }
   ],
   "source": [
    "y_pred = clf_lr.predict(X_test)\n",
    "accuracy_score(y_pred, y_test)"
   ]
  },
  {
   "cell_type": "code",
   "execution_count": 43,
   "id": "e448093f",
   "metadata": {},
   "outputs": [
    {
     "data": {
      "text/plain": [
       "KNeighborsClassifier(n_neighbors=10)"
      ]
     },
     "execution_count": 43,
     "metadata": {},
     "output_type": "execute_result"
    }
   ],
   "source": [
    "from sklearn import neighbors\n",
    "\n",
    "clf_knn = neighbors.KNeighborsClassifier(n_neighbors=10)\n",
    "clf_knn.fit(scaled_df, y_train)"
   ]
  },
  {
   "cell_type": "code",
   "execution_count": 44,
   "id": "bbd53232",
   "metadata": {},
   "outputs": [
    {
     "data": {
      "text/plain": [
       "0.4797297297297297"
      ]
     },
     "execution_count": 44,
     "metadata": {},
     "output_type": "execute_result"
    }
   ],
   "source": [
    "y_pred = clf_knn.predict(X_test)\n",
    "accuracy_score(y_pred, y_test)"
   ]
  },
  {
   "cell_type": "markdown",
   "id": "2315291d",
   "metadata": {},
   "source": [
    "## 4. How have you performed hyper-parameter tuning and model optimization? What are the reasons for your decision choices for these steps?"
   ]
  },
  {
   "cell_type": "code",
   "execution_count": 45,
   "id": "43593c2d",
   "metadata": {},
   "outputs": [
    {
     "data": {
      "text/plain": [
       "RandomForestClassifier(n_estimators=10, random_state=1)"
      ]
     },
     "execution_count": 45,
     "metadata": {},
     "output_type": "execute_result"
    }
   ],
   "source": [
    "from sklearn.ensemble import RandomForestClassifier\n",
    "\n",
    "clf_rfc = RandomForestClassifier(n_estimators=10, random_state=1)\n",
    "clf_rfc.fit(scaled_df, y_train)"
   ]
  },
  {
   "cell_type": "code",
   "execution_count": 46,
   "id": "2891f5ca",
   "metadata": {},
   "outputs": [
    {
     "data": {
      "text/plain": [
       "0.8108108108108109"
      ]
     },
     "execution_count": 46,
     "metadata": {},
     "output_type": "execute_result"
    }
   ],
   "source": [
    "y_pred = clf_rfc.predict(X_test)\n",
    "accuracy_score(y_pred, y_test)"
   ]
  },
  {
   "cell_type": "markdown",
   "id": "331af5a4",
   "metadata": {},
   "source": [
    "In Random Forest Classifier multiple values for n_estimator was considered for hypertuning out of which n_estimator = 10 has given the best score.\n",
    "\n",
    "Further, GridSearchCV can be used in the classifier to tune the model's parameter better on the training set."
   ]
  },
  {
   "cell_type": "markdown",
   "id": "dfa20f92",
   "metadata": {},
   "source": [
    "## 2.What considerations have been used for model selection?"
   ]
  },
  {
   "cell_type": "markdown",
   "id": "2c491d83",
   "metadata": {},
   "source": [
    "I have considered the model based on their score for accuracy. From above we can see that Random Forest Classifier gives the best score for accuracy."
   ]
  },
  {
   "cell_type": "markdown",
   "id": "3934aa69",
   "metadata": {},
   "source": [
    "## 5. What is your model evaluation criteria? What are the assumptions and limitations of your approach?"
   ]
  },
  {
   "cell_type": "markdown",
   "id": "718d2cba",
   "metadata": {},
   "source": [
    "The Model is evaluated based on the accuracy score for random forest classifier. Assuming the accuracy of the model to be 81% on the testing set. I have tried for calculating the cross validation on training to check if the model don't underfit or overfit.\n",
    "\n",
    "F1 score is also considered for the evaluating the model where it shows the average weight of recall and precision which shows that model is predicting the results quite accurately.\n",
    "\n",
    "A Confusion Matrix is also be shown for the same predictions."
   ]
  },
  {
   "cell_type": "code",
   "execution_count": 47,
   "id": "12a0083b",
   "metadata": {},
   "outputs": [
    {
     "data": {
      "text/plain": [
       "0.8008779631255487"
      ]
     },
     "execution_count": 47,
     "metadata": {},
     "output_type": "execute_result"
    }
   ],
   "source": [
    "from sklearn.model_selection import cross_val_score\n",
    "score = cross_val_score(clf_rfc, scaled_df, y_train, cv = 10)\n",
    "score.mean()"
   ]
  },
  {
   "cell_type": "code",
   "execution_count": 48,
   "id": "627215b8",
   "metadata": {},
   "outputs": [
    {
     "data": {
      "text/plain": [
       "0.8205128205128205"
      ]
     },
     "execution_count": 48,
     "metadata": {},
     "output_type": "execute_result"
    }
   ],
   "source": [
    "from sklearn.metrics import f1_score\n",
    "from sklearn.metrics import confusion_matrix\n",
    "f1_score(clf_rfc.predict(X_test), y_test)"
   ]
  },
  {
   "cell_type": "code",
   "execution_count": 49,
   "id": "9d5c2063",
   "metadata": {},
   "outputs": [
    {
     "data": {
      "text/plain": [
       "<AxesSubplot:>"
      ]
     },
     "execution_count": 49,
     "metadata": {},
     "output_type": "execute_result"
    },
    {
     "data": {
      "image/png": "[encoded data removed]",
      "text/plain": [
       "<Figure size 432x288 with 2 Axes>"
      ]
     },
     "metadata": {
      "needs_background": "light"
     },
     "output_type": "display_data"
    }
   ],
   "source": [
    "sns.heatmap(confusion_matrix(clf_rfc.predict(X_test), y_test),annot=True)"
   ]
  },
  {
   "cell_type": "code",
   "execution_count": null,
   "id": "9a74519b",
   "metadata": {},
   "outputs": [],
   "source": []
  },
  {
   "cell_type": "code",
   "execution_count": null,
   "id": "b98b3ecf",
   "metadata": {},
   "outputs": [],
   "source": []
  }
 ],
 "metadata": {
  "kernelspec": {
   "display_name": "Python 3",
   "language": "python",
   "name": "python3"
  },
  "language_info": {
   "codemirror_mode": {
    "name": "ipython",
    "version": 3
   },
   "file_extension": ".py",
   "mimetype": "text/x-python",
   "name": "python",
   "nbconvert_exporter": "python",
   "pygments_lexer": "ipython3",
   "version": "3.9.4"
  }
 },
 "nbformat": 4,
 "nbformat_minor": 5
}
